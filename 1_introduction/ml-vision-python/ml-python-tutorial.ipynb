{
 "cells": [
  {
   "cell_type": "markdown",
   "metadata": {},
   "source": [
    "# Train your image classifier in python"
   ]
  },
  {
   "cell_type": "markdown",
   "metadata": {},
   "source": [
    "This tutorial repeats in Python the same steps as the ones viewed in class with the Marcelle interactive application.\n",
    "\n",
    "We will step through the process of loading and preparing skin lesion images for a machine learning classification task. Using the `load_images_and_labels` function from our utilities module, we will load both training and testing datasets from a GitHub repository. This function will handle fetching image URLs, downloading images, and extracting labels for each image. By the end of this tutorial, you will have two DataFrames: one for training and one for testing, which will be used to train a machine learning model for the task of skin lesion classification."
   ]
  },
  {
   "cell_type": "markdown",
   "metadata": {},
   "source": [
    "## 1. Download data and store them in a Pandas dataframe"
   ]
  },
  {
   "cell_type": "code",
   "execution_count": 1,
   "metadata": {},
   "outputs": [],
   "source": [
    "# Import the function `load_images_and_labels` from the `utilities` module.\n",
    "# The `utilities` module contains helpful functions to streamline the process of data handling.\n",
    "from utilities import load_images_and_labels\n",
    "\n",
    "df_train = load_images_and_labels('train')\n",
    "df_test = load_images_and_labels('test')"
   ]
  },
  {
   "cell_type": "markdown",
   "metadata": {},
   "source": [
    "At this point, the variables `df_train` and `df_test` hold the images and labels of our training and testing sets, respectively. These will be the input for any subsequent preprocessing, model training, or evaluation steps."
   ]
  },
  {
   "cell_type": "code",
   "execution_count": 59,
   "metadata": {},
   "outputs": [
    {
     "data": {
      "text/html": [
       "<div>\n",
       "<style scoped>\n",
       "    .dataframe tbody tr th:only-of-type {\n",
       "        vertical-align: middle;\n",
       "    }\n",
       "\n",
       "    .dataframe tbody tr th {\n",
       "        vertical-align: top;\n",
       "    }\n",
       "\n",
       "    .dataframe thead th {\n",
       "        text-align: right;\n",
       "    }\n",
       "</style>\n",
       "<table border=\"1\" class=\"dataframe\">\n",
       "  <thead>\n",
       "    <tr style=\"text-align: right;\">\n",
       "      <th></th>\n",
       "      <th>filename</th>\n",
       "      <th>image</th>\n",
       "      <th>label</th>\n",
       "      <th>features</th>\n",
       "    </tr>\n",
       "  </thead>\n",
       "  <tbody>\n",
       "    <tr>\n",
       "      <th>0</th>\n",
       "      <td>benign_train_1.png</td>\n",
       "      <td>&lt;PIL.Image.Image image mode=RGB size=224x224 a...</td>\n",
       "      <td>benign</td>\n",
       "      <td>[0.0, 0.0, 0.0, 0.0, 0.0, 0.0, 0.0, 0.0, 0.0, ...</td>\n",
       "    </tr>\n",
       "    <tr>\n",
       "      <th>1</th>\n",
       "      <td>benign_train_10.png</td>\n",
       "      <td>&lt;PIL.Image.Image image mode=RGB size=224x224 a...</td>\n",
       "      <td>benign</td>\n",
       "      <td>[0.0, 0.0, 0.0, 0.0, 0.0, 0.0, 0.0, 0.0, 0.0, ...</td>\n",
       "    </tr>\n",
       "    <tr>\n",
       "      <th>2</th>\n",
       "      <td>benign_train_11.png</td>\n",
       "      <td>&lt;PIL.Image.Image image mode=RGB size=224x224 a...</td>\n",
       "      <td>benign</td>\n",
       "      <td>[0.0, 0.0, 0.0, 0.0, 0.0, 0.0, 0.0, 0.0, 0.0, ...</td>\n",
       "    </tr>\n",
       "    <tr>\n",
       "      <th>3</th>\n",
       "      <td>benign_train_12.png</td>\n",
       "      <td>&lt;PIL.Image.Image image mode=RGB size=224x224 a...</td>\n",
       "      <td>benign</td>\n",
       "      <td>[0.0, 0.0, 0.0, 0.0, 0.0, 0.0, 0.0, 0.0, 0.0, ...</td>\n",
       "    </tr>\n",
       "    <tr>\n",
       "      <th>4</th>\n",
       "      <td>benign_train_13.png</td>\n",
       "      <td>&lt;PIL.Image.Image image mode=RGB size=224x224 a...</td>\n",
       "      <td>benign</td>\n",
       "      <td>[0.0, 0.0, 5.3492703, 0.0, 0.0, 0.0, 0.0, 0.0,...</td>\n",
       "    </tr>\n",
       "  </tbody>\n",
       "</table>\n",
       "</div>"
      ],
      "text/plain": [
       "              filename                                              image  \\\n",
       "0   benign_train_1.png  <PIL.Image.Image image mode=RGB size=224x224 a...   \n",
       "1  benign_train_10.png  <PIL.Image.Image image mode=RGB size=224x224 a...   \n",
       "2  benign_train_11.png  <PIL.Image.Image image mode=RGB size=224x224 a...   \n",
       "3  benign_train_12.png  <PIL.Image.Image image mode=RGB size=224x224 a...   \n",
       "4  benign_train_13.png  <PIL.Image.Image image mode=RGB size=224x224 a...   \n",
       "\n",
       "    label                                           features  \n",
       "0  benign  [0.0, 0.0, 0.0, 0.0, 0.0, 0.0, 0.0, 0.0, 0.0, ...  \n",
       "1  benign  [0.0, 0.0, 0.0, 0.0, 0.0, 0.0, 0.0, 0.0, 0.0, ...  \n",
       "2  benign  [0.0, 0.0, 0.0, 0.0, 0.0, 0.0, 0.0, 0.0, 0.0, ...  \n",
       "3  benign  [0.0, 0.0, 0.0, 0.0, 0.0, 0.0, 0.0, 0.0, 0.0, ...  \n",
       "4  benign  [0.0, 0.0, 5.3492703, 0.0, 0.0, 0.0, 0.0, 0.0,...  "
      ]
     },
     "execution_count": 59,
     "metadata": {},
     "output_type": "execute_result"
    }
   ],
   "source": [
    "df_train.head()"
   ]
  },
  {
   "cell_type": "markdown",
   "metadata": {},
   "source": [
    "## 2. Extract features from images using a pre-trained neural network"
   ]
  },
  {
   "cell_type": "markdown",
   "metadata": {},
   "source": [
    "This section of the tutorial will guide you through the process of leveraging a pre-trained MobileNet model from Keras for the purpose of feature extraction. We'll use the MobileNet model as a base to process images into a form that can be used to train a simpler classifier on top of the complex patterns that MobileNet can recognize."
   ]
  },
  {
   "cell_type": "code",
   "execution_count": 125,
   "metadata": {},
   "outputs": [
    {
     "name": "stdout",
     "output_type": "stream",
     "text": [
      "Model: \"model_9\"\n",
      "_________________________________________________________________\n",
      " Layer (type)                Output Shape              Param #   \n",
      "=================================================================\n",
      " input_15 (InputLayer)       [(None, 224, 224, 3)]     0         \n",
      "                                                                 \n",
      " conv1 (Conv2D)              (None, 112, 112, 32)      864       \n",
      "                                                                 \n",
      " conv1_bn (BatchNormalizati  (None, 112, 112, 32)      128       \n",
      " on)                                                             \n",
      "                                                                 \n",
      " conv1_relu (ReLU)           (None, 112, 112, 32)      0         \n",
      "                                                                 \n",
      " conv_dw_1 (DepthwiseConv2D  (None, 112, 112, 32)      288       \n",
      " )                                                               \n",
      "                                                                 \n",
      " conv_dw_1_bn (BatchNormali  (None, 112, 112, 32)      128       \n",
      " zation)                                                         \n",
      "                                                                 \n",
      " conv_dw_1_relu (ReLU)       (None, 112, 112, 32)      0         \n",
      "                                                                 \n",
      " conv_pw_1 (Conv2D)          (None, 112, 112, 64)      2048      \n",
      "                                                                 \n",
      " conv_pw_1_bn (BatchNormali  (None, 112, 112, 64)      256       \n",
      " zation)                                                         \n",
      "                                                                 \n",
      " conv_pw_1_relu (ReLU)       (None, 112, 112, 64)      0         \n",
      "                                                                 \n",
      " conv_pad_2 (ZeroPadding2D)  (None, 113, 113, 64)      0         \n",
      "                                                                 \n",
      " conv_dw_2 (DepthwiseConv2D  (None, 56, 56, 64)        576       \n",
      " )                                                               \n",
      "                                                                 \n",
      " conv_dw_2_bn (BatchNormali  (None, 56, 56, 64)        256       \n",
      " zation)                                                         \n",
      "                                                                 \n",
      " conv_dw_2_relu (ReLU)       (None, 56, 56, 64)        0         \n",
      "                                                                 \n",
      " conv_pw_2 (Conv2D)          (None, 56, 56, 128)       8192      \n",
      "                                                                 \n",
      " conv_pw_2_bn (BatchNormali  (None, 56, 56, 128)       512       \n",
      " zation)                                                         \n",
      "                                                                 \n",
      " conv_pw_2_relu (ReLU)       (None, 56, 56, 128)       0         \n",
      "                                                                 \n",
      " conv_dw_3 (DepthwiseConv2D  (None, 56, 56, 128)       1152      \n",
      " )                                                               \n",
      "                                                                 \n",
      " conv_dw_3_bn (BatchNormali  (None, 56, 56, 128)       512       \n",
      " zation)                                                         \n",
      "                                                                 \n",
      " conv_dw_3_relu (ReLU)       (None, 56, 56, 128)       0         \n",
      "                                                                 \n",
      " conv_pw_3 (Conv2D)          (None, 56, 56, 128)       16384     \n",
      "                                                                 \n",
      " conv_pw_3_bn (BatchNormali  (None, 56, 56, 128)       512       \n",
      " zation)                                                         \n",
      "                                                                 \n",
      " conv_pw_3_relu (ReLU)       (None, 56, 56, 128)       0         \n",
      "                                                                 \n",
      " conv_pad_4 (ZeroPadding2D)  (None, 57, 57, 128)       0         \n",
      "                                                                 \n",
      " conv_dw_4 (DepthwiseConv2D  (None, 28, 28, 128)       1152      \n",
      " )                                                               \n",
      "                                                                 \n",
      " conv_dw_4_bn (BatchNormali  (None, 28, 28, 128)       512       \n",
      " zation)                                                         \n",
      "                                                                 \n",
      " conv_dw_4_relu (ReLU)       (None, 28, 28, 128)       0         \n",
      "                                                                 \n",
      " conv_pw_4 (Conv2D)          (None, 28, 28, 256)       32768     \n",
      "                                                                 \n",
      " conv_pw_4_bn (BatchNormali  (None, 28, 28, 256)       1024      \n",
      " zation)                                                         \n",
      "                                                                 \n",
      " conv_pw_4_relu (ReLU)       (None, 28, 28, 256)       0         \n",
      "                                                                 \n",
      " conv_dw_5 (DepthwiseConv2D  (None, 28, 28, 256)       2304      \n",
      " )                                                               \n",
      "                                                                 \n",
      " conv_dw_5_bn (BatchNormali  (None, 28, 28, 256)       1024      \n",
      " zation)                                                         \n",
      "                                                                 \n",
      " conv_dw_5_relu (ReLU)       (None, 28, 28, 256)       0         \n",
      "                                                                 \n",
      " conv_pw_5 (Conv2D)          (None, 28, 28, 256)       65536     \n",
      "                                                                 \n",
      " conv_pw_5_bn (BatchNormali  (None, 28, 28, 256)       1024      \n",
      " zation)                                                         \n",
      "                                                                 \n",
      " conv_pw_5_relu (ReLU)       (None, 28, 28, 256)       0         \n",
      "                                                                 \n",
      " conv_pad_6 (ZeroPadding2D)  (None, 29, 29, 256)       0         \n",
      "                                                                 \n",
      " conv_dw_6 (DepthwiseConv2D  (None, 14, 14, 256)       2304      \n",
      " )                                                               \n",
      "                                                                 \n",
      " conv_dw_6_bn (BatchNormali  (None, 14, 14, 256)       1024      \n",
      " zation)                                                         \n",
      "                                                                 \n",
      " conv_dw_6_relu (ReLU)       (None, 14, 14, 256)       0         \n",
      "                                                                 \n",
      " conv_pw_6 (Conv2D)          (None, 14, 14, 512)       131072    \n",
      "                                                                 \n",
      " conv_pw_6_bn (BatchNormali  (None, 14, 14, 512)       2048      \n",
      " zation)                                                         \n",
      "                                                                 \n",
      " conv_pw_6_relu (ReLU)       (None, 14, 14, 512)       0         \n",
      "                                                                 \n",
      " conv_dw_7 (DepthwiseConv2D  (None, 14, 14, 512)       4608      \n",
      " )                                                               \n",
      "                                                                 \n",
      " conv_dw_7_bn (BatchNormali  (None, 14, 14, 512)       2048      \n",
      " zation)                                                         \n",
      "                                                                 \n",
      " conv_dw_7_relu (ReLU)       (None, 14, 14, 512)       0         \n",
      "                                                                 \n",
      " conv_pw_7 (Conv2D)          (None, 14, 14, 512)       262144    \n",
      "                                                                 \n",
      " conv_pw_7_bn (BatchNormali  (None, 14, 14, 512)       2048      \n",
      " zation)                                                         \n",
      "                                                                 \n",
      " conv_pw_7_relu (ReLU)       (None, 14, 14, 512)       0         \n",
      "                                                                 \n",
      " conv_dw_8 (DepthwiseConv2D  (None, 14, 14, 512)       4608      \n",
      " )                                                               \n",
      "                                                                 \n",
      " conv_dw_8_bn (BatchNormali  (None, 14, 14, 512)       2048      \n",
      " zation)                                                         \n",
      "                                                                 \n",
      " conv_dw_8_relu (ReLU)       (None, 14, 14, 512)       0         \n",
      "                                                                 \n",
      " conv_pw_8 (Conv2D)          (None, 14, 14, 512)       262144    \n",
      "                                                                 \n",
      " conv_pw_8_bn (BatchNormali  (None, 14, 14, 512)       2048      \n",
      " zation)                                                         \n",
      "                                                                 \n",
      " conv_pw_8_relu (ReLU)       (None, 14, 14, 512)       0         \n",
      "                                                                 \n",
      " conv_dw_9 (DepthwiseConv2D  (None, 14, 14, 512)       4608      \n",
      " )                                                               \n",
      "                                                                 \n",
      " conv_dw_9_bn (BatchNormali  (None, 14, 14, 512)       2048      \n",
      " zation)                                                         \n",
      "                                                                 \n",
      " conv_dw_9_relu (ReLU)       (None, 14, 14, 512)       0         \n",
      "                                                                 \n",
      " conv_pw_9 (Conv2D)          (None, 14, 14, 512)       262144    \n",
      "                                                                 \n",
      " conv_pw_9_bn (BatchNormali  (None, 14, 14, 512)       2048      \n",
      " zation)                                                         \n",
      "                                                                 \n",
      " conv_pw_9_relu (ReLU)       (None, 14, 14, 512)       0         \n",
      "                                                                 \n",
      " conv_dw_10 (DepthwiseConv2  (None, 14, 14, 512)       4608      \n",
      " D)                                                              \n",
      "                                                                 \n",
      " conv_dw_10_bn (BatchNormal  (None, 14, 14, 512)       2048      \n",
      " ization)                                                        \n",
      "                                                                 \n",
      " conv_dw_10_relu (ReLU)      (None, 14, 14, 512)       0         \n",
      "                                                                 \n",
      " conv_pw_10 (Conv2D)         (None, 14, 14, 512)       262144    \n",
      "                                                                 \n",
      " conv_pw_10_bn (BatchNormal  (None, 14, 14, 512)       2048      \n",
      " ization)                                                        \n",
      "                                                                 \n",
      " conv_pw_10_relu (ReLU)      (None, 14, 14, 512)       0         \n",
      "                                                                 \n",
      " conv_dw_11 (DepthwiseConv2  (None, 14, 14, 512)       4608      \n",
      " D)                                                              \n",
      "                                                                 \n",
      " conv_dw_11_bn (BatchNormal  (None, 14, 14, 512)       2048      \n",
      " ization)                                                        \n",
      "                                                                 \n",
      " conv_dw_11_relu (ReLU)      (None, 14, 14, 512)       0         \n",
      "                                                                 \n",
      " conv_pw_11 (Conv2D)         (None, 14, 14, 512)       262144    \n",
      "                                                                 \n",
      " conv_pw_11_bn (BatchNormal  (None, 14, 14, 512)       2048      \n",
      " ization)                                                        \n",
      "                                                                 \n",
      " conv_pw_11_relu (ReLU)      (None, 14, 14, 512)       0         \n",
      "                                                                 \n",
      " conv_pad_12 (ZeroPadding2D  (None, 15, 15, 512)       0         \n",
      " )                                                               \n",
      "                                                                 \n",
      " conv_dw_12 (DepthwiseConv2  (None, 7, 7, 512)         4608      \n",
      " D)                                                              \n",
      "                                                                 \n",
      " conv_dw_12_bn (BatchNormal  (None, 7, 7, 512)         2048      \n",
      " ization)                                                        \n",
      "                                                                 \n",
      " conv_dw_12_relu (ReLU)      (None, 7, 7, 512)         0         \n",
      "                                                                 \n",
      " conv_pw_12 (Conv2D)         (None, 7, 7, 1024)        524288    \n",
      "                                                                 \n",
      " conv_pw_12_bn (BatchNormal  (None, 7, 7, 1024)        4096      \n",
      " ization)                                                        \n",
      "                                                                 \n",
      " conv_pw_12_relu (ReLU)      (None, 7, 7, 1024)        0         \n",
      "                                                                 \n",
      " conv_dw_13 (DepthwiseConv2  (None, 7, 7, 1024)        9216      \n",
      " D)                                                              \n",
      "                                                                 \n",
      " conv_dw_13_bn (BatchNormal  (None, 7, 7, 1024)        4096      \n",
      " ization)                                                        \n",
      "                                                                 \n",
      " conv_dw_13_relu (ReLU)      (None, 7, 7, 1024)        0         \n",
      "                                                                 \n",
      " conv_pw_13 (Conv2D)         (None, 7, 7, 1024)        1048576   \n",
      "                                                                 \n",
      " conv_pw_13_bn (BatchNormal  (None, 7, 7, 1024)        4096      \n",
      " ization)                                                        \n",
      "                                                                 \n",
      " conv_pw_13_relu (ReLU)      (None, 7, 7, 1024)        0         \n",
      "                                                                 \n",
      " global_average_pooling2d_2  (None, 1024)              0         \n",
      "  (GlobalAveragePooling2D)                                       \n",
      "                                                                 \n",
      "=================================================================\n",
      "Total params: 3228864 (12.32 MB)\n",
      "Trainable params: 3206976 (12.23 MB)\n",
      "Non-trainable params: 21888 (85.50 KB)\n",
      "_________________________________________________________________\n"
     ]
    }
   ],
   "source": [
    "# Import necessary packages.\n",
    "\n",
    "import numpy as np # `numpy` is a fundamental package for scientific computing with Python.\n",
    "from keras.applications import MobileNet # `MobileNet` is a pre-trained model provided by Keras, suitable for mobile and embedded vision applications.\n",
    "from keras.preprocessing.image import img_to_array # `img_to_array` converts a PIL Image instance to a numpy array.\n",
    "from tensorflow.keras.applications.mobilenet import preprocess_input # `preprocess_input` will preprocess the image data to match the format expected by MobileNet.\n",
    "from keras import Model # `Model` from Keras is used to instantiate a new model object.\n",
    "from tensorflow.keras.layers import GlobalAveragePooling2D\n",
    "\n",
    "\n",
    "\n",
    "# Initialize the base MobileNet model with ImageNet weights and without the top classification layer.\n",
    "# This will allow us to use the convolutional base to extract features from our images.\n",
    "# `weights=\"imagenet\"` means we load weights pre-trained on ImageNet.\n",
    "# `include_top=False` indicates that we do not include the top (or last) fully connected layer.\n",
    "# base_model = MobileNet(weights=\"imagenet\", input_shape=(224, 224, 3), output_shape=(7, 7, 1024), include_top=False)\n",
    "base_model = MobileNet(weights='imagenet', include_top=False, input_shape=(224, 224, 3), alpha=1.0)\n",
    "\n",
    "\n",
    "target_layer = base_model.output\n",
    "\n",
    "# Add Global Average Pooling layer to reduce spatial dimensions\n",
    "global_average_layer = GlobalAveragePooling2D()(target_layer)\n",
    "\n",
    "# Create the new model with the Global Average Pooling output\n",
    "model = Model(inputs=base_model.input, outputs=global_average_layer)\n",
    "\n",
    "# This model will now output a 1024-dimensional vector for each input image\n",
    "model.summary()\n"
   ]
  },
  {
   "cell_type": "code",
   "execution_count": 126,
   "metadata": {},
   "outputs": [],
   "source": [
    "import pandas as pd # `pandas` is a Python package for data manipulation and analysis.\n",
    "\n",
    "# Function definition to extract features from a dataframe of images.\n",
    "def extract_features(df: pd.DataFrame, model : Model) -> np.ndarray:\n",
    "    \"\"\"AI is creating summary for extract_features\n",
    "\n",
    "    Args:\n",
    "        df (pd.DataFrame): Dataframe of images.\n",
    "        model (Model): Model to extract features from.\n",
    "\n",
    "    Returns:\n",
    "        np.ndarray: Array of flattened features.\n",
    "    \"\"\"\n",
    "    # `img_to_array` converts the PIL Image into a numpy array.\n",
    "    # `preprocess_input` prepares the image for MobileNet (e.g., scaling pixel values).\n",
    "    images = np.array([img_to_array(img) for img in df['image'].values])\n",
    "    images = preprocess_input(images)\n",
    "\n",
    "    # Use the provided model (e.g., MobileNet) to predict features.\n",
    "    # This acts as a feature extractor, turning images into feature vectors.\n",
    "    features = model.predict(images)\n",
    "\n",
    "    # Reshape the features to a 2D array where each row is a set of features for one image.\n",
    "    # The model outputs a 4D tensor, but we need a 2D array for the classifier.\n",
    "    flattened_features = features.reshape(features.shape[0], -1)\n",
    "\n",
    "    # The function returns the array of flattened features ready for use in training a classifier.\n",
    "    return flattened_features"
   ]
  },
  {
   "cell_type": "code",
   "execution_count": 127,
   "metadata": {},
   "outputs": [
    {
     "name": "stdout",
     "output_type": "stream",
     "text": [
      "3/3 [==============================] - 0s 81ms/step\n",
      "3/3 [==============================] - 0s 84ms/step\n"
     ]
    }
   ],
   "source": [
    "df_train['features'] = list(extract_features(df_train, model))\n",
    "df_test['features'] = list(extract_features(df_test, model))"
   ]
  },
  {
   "cell_type": "code",
   "execution_count": 128,
   "metadata": {},
   "outputs": [
    {
     "data": {
      "text/html": [
       "<div>\n",
       "<style scoped>\n",
       "    .dataframe tbody tr th:only-of-type {\n",
       "        vertical-align: middle;\n",
       "    }\n",
       "\n",
       "    .dataframe tbody tr th {\n",
       "        vertical-align: top;\n",
       "    }\n",
       "\n",
       "    .dataframe thead th {\n",
       "        text-align: right;\n",
       "    }\n",
       "</style>\n",
       "<table border=\"1\" class=\"dataframe\">\n",
       "  <thead>\n",
       "    <tr style=\"text-align: right;\">\n",
       "      <th></th>\n",
       "      <th>filename</th>\n",
       "      <th>image</th>\n",
       "      <th>label</th>\n",
       "      <th>features</th>\n",
       "    </tr>\n",
       "  </thead>\n",
       "  <tbody>\n",
       "    <tr>\n",
       "      <th>0</th>\n",
       "      <td>benign_train_1.png</td>\n",
       "      <td>&lt;PIL.Image.Image image mode=RGB size=224x224 a...</td>\n",
       "      <td>benign</td>\n",
       "      <td>[0.0, 0.0, 1.7514466, 1.038351, 0.0, 0.4542227...</td>\n",
       "    </tr>\n",
       "    <tr>\n",
       "      <th>1</th>\n",
       "      <td>benign_train_10.png</td>\n",
       "      <td>&lt;PIL.Image.Image image mode=RGB size=224x224 a...</td>\n",
       "      <td>benign</td>\n",
       "      <td>[0.0, 0.0, 0.45081282, 1.2973214, 0.0, 0.26359...</td>\n",
       "    </tr>\n",
       "    <tr>\n",
       "      <th>2</th>\n",
       "      <td>benign_train_11.png</td>\n",
       "      <td>&lt;PIL.Image.Image image mode=RGB size=224x224 a...</td>\n",
       "      <td>benign</td>\n",
       "      <td>[0.0, 0.06741032, 0.0, 1.5003142, 0.0, 0.07763...</td>\n",
       "    </tr>\n",
       "    <tr>\n",
       "      <th>3</th>\n",
       "      <td>benign_train_12.png</td>\n",
       "      <td>&lt;PIL.Image.Image image mode=RGB size=224x224 a...</td>\n",
       "      <td>benign</td>\n",
       "      <td>[0.09131607, 0.14149629, 0.0, 1.8003716, 0.039...</td>\n",
       "    </tr>\n",
       "    <tr>\n",
       "      <th>4</th>\n",
       "      <td>benign_train_13.png</td>\n",
       "      <td>&lt;PIL.Image.Image image mode=RGB size=224x224 a...</td>\n",
       "      <td>benign</td>\n",
       "      <td>[0.0, 0.0, 3.0407, 2.220454, 0.053016722, 0.03...</td>\n",
       "    </tr>\n",
       "  </tbody>\n",
       "</table>\n",
       "</div>"
      ],
      "text/plain": [
       "              filename                                              image  \\\n",
       "0   benign_train_1.png  <PIL.Image.Image image mode=RGB size=224x224 a...   \n",
       "1  benign_train_10.png  <PIL.Image.Image image mode=RGB size=224x224 a...   \n",
       "2  benign_train_11.png  <PIL.Image.Image image mode=RGB size=224x224 a...   \n",
       "3  benign_train_12.png  <PIL.Image.Image image mode=RGB size=224x224 a...   \n",
       "4  benign_train_13.png  <PIL.Image.Image image mode=RGB size=224x224 a...   \n",
       "\n",
       "    label                                           features  \n",
       "0  benign  [0.0, 0.0, 1.7514466, 1.038351, 0.0, 0.4542227...  \n",
       "1  benign  [0.0, 0.0, 0.45081282, 1.2973214, 0.0, 0.26359...  \n",
       "2  benign  [0.0, 0.06741032, 0.0, 1.5003142, 0.0, 0.07763...  \n",
       "3  benign  [0.09131607, 0.14149629, 0.0, 1.8003716, 0.039...  \n",
       "4  benign  [0.0, 0.0, 3.0407, 2.220454, 0.053016722, 0.03...  "
      ]
     },
     "execution_count": 128,
     "metadata": {},
     "output_type": "execute_result"
    }
   ],
   "source": [
    "df_train.head()"
   ]
  },
  {
   "cell_type": "code",
   "execution_count": 129,
   "metadata": {},
   "outputs": [
    {
     "data": {
      "text/plain": [
       "(1024,)"
      ]
     },
     "execution_count": 129,
     "metadata": {},
     "output_type": "execute_result"
    }
   ],
   "source": [
    "df_train.features[0].shape"
   ]
  },
  {
   "cell_type": "markdown",
   "metadata": {},
   "source": [
    "## 3. Define neural network architecture"
   ]
  },
  {
   "cell_type": "markdown",
   "metadata": {},
   "source": [
    "In this section of the tutorial, we focus on constructing a simple neural network architecture using Keras, which is now integrated within TensorFlow. We'll go through the process of defining a Sequential model, which allows us to create models layer-by-layer. You'll see how we can add densely connected layers and compile the model with an optimizer and loss function suitable for a binary classification task."
   ]
  },
  {
   "cell_type": "code",
   "execution_count": 151,
   "metadata": {},
   "outputs": [],
   "source": [
    "# Import necessary packages.\n",
    "from keras.models import Sequential # `Sequential` groups a linear stack of layers into a `tf.keras.Model`.\n",
    "from keras.layers import Dense, Flatten # `Dense` implements the operation: `output = activation(dot(input, kernel) + bias)`.\n",
    "from tensorflow.keras.optimizers.legacy import Adam # `Adam` is an optimization algorithm that can be used instead of the classical stochastic gradient descent procedure to update network weights iterative based on training data.\n",
    "\n",
    "# Define the sequential model from Keras.\n",
    "model = Sequential([\n",
    "    # Flatten layer to transform the input features into a 1D array.\n",
    "    Flatten(input_shape=df_train.features[0].shape), # Use the shape of features from the training set.\n",
    "    \n",
    "    # First dense layer with 62 neurons and ReLU activation.\n",
    "    # ReLU (rectified linear unit) activation function is a common choice for hidden layers.\n",
    "    Dense(62, activation='relu'),\n",
    "    \n",
    "    # Second dense layer with 32 neurons and ReLU activation.\n",
    "    Dense(32, activation='relu'),\n",
    "    \n",
    "    # Output layer with a single neuron and sigmoid activation.\n",
    "    # Sigmoid is commonly used for binary classification.\n",
    "    Dense(1, activation='sigmoid')\n",
    "])\n",
    "\n",
    "# Compile the model with an optimizer, loss function, and metrics to monitor.\n",
    "# Adam optimizer is used here with a default learning rate of 0.001.\n",
    "# 'binary_crossentropy' is the appropriate loss function for binary classification tasks.\n",
    "model.compile(optimizer=Adam(learning_rate=0.01), loss='binary_crossentropy', metrics=['accuracy'])"
   ]
  },
  {
   "cell_type": "markdown",
   "metadata": {},
   "source": [
    " With the model compiled, it is now ready to be trained with a dataset. The loss function and optimizer will work together to adjust the model weights to minimize the loss."
   ]
  },
  {
   "cell_type": "markdown",
   "metadata": {},
   "source": [
    "## 4. Prepare data and train"
   ]
  },
  {
   "cell_type": "code",
   "execution_count": 152,
   "metadata": {},
   "outputs": [],
   "source": [
    "# Convert the list of feature arrays into a numpy array for the training data.\n",
    "# This step is necessary because the model expects a numpy array as input.\n",
    "X_train = np.array(df_train['features'].tolist())\n",
    "\n",
    "# Convert labels from string to binary numerical format for the training data.\n",
    "# This transformation is required because the output layer of the model has a sigmoid activation function,\n",
    "# which expects a binary target variable.\n",
    "# Here, 'malignant' is mapped to 1 (indicating presence of condition) and 'benign' to 0 (indicating absence).\n",
    "y_train = df_train['label'].apply(lambda x: 1 if x == 'malignant' else 0).values"
   ]
  },
  {
   "cell_type": "markdown",
   "metadata": {},
   "source": [
    "X_train and y_train are the features and labels for the training set respectively. batch_size determines the number of samples that will be propagated through the network at once. A smaller batch size means that the model will be updated more frequently within an epoch."
   ]
  },
  {
   "cell_type": "code",
   "execution_count": 153,
   "metadata": {},
   "outputs": [
    {
     "name": "stdout",
     "output_type": "stream",
     "text": [
      "Epoch 1/10\n"
     ]
    },
    {
     "name": "stdout",
     "output_type": "stream",
     "text": [
      "9/9 [==============================] - 0s 7ms/step - loss: 1.4836 - accuracy: 0.4638 - val_loss: 0.0288 - val_accuracy: 1.0000\n",
      "Epoch 2/10\n",
      "9/9 [==============================] - 0s 2ms/step - loss: 1.0036 - accuracy: 0.5362 - val_loss: 0.1394 - val_accuracy: 1.0000\n",
      "Epoch 3/10\n",
      "9/9 [==============================] - 0s 2ms/step - loss: 0.6363 - accuracy: 0.7681 - val_loss: 1.2553 - val_accuracy: 0.2500\n",
      "Epoch 4/10\n",
      "9/9 [==============================] - 0s 2ms/step - loss: 0.4558 - accuracy: 0.7971 - val_loss: 1.1618 - val_accuracy: 0.3750\n",
      "Epoch 5/10\n",
      "9/9 [==============================] - 0s 2ms/step - loss: 0.3344 - accuracy: 0.8261 - val_loss: 0.1880 - val_accuracy: 1.0000\n",
      "Epoch 6/10\n",
      "9/9 [==============================] - 0s 2ms/step - loss: 0.3011 - accuracy: 0.8696 - val_loss: 1.6299 - val_accuracy: 0.3750\n",
      "Epoch 7/10\n",
      "9/9 [==============================] - 0s 3ms/step - loss: 0.2203 - accuracy: 0.8986 - val_loss: 0.8239 - val_accuracy: 0.7500\n",
      "Epoch 8/10\n",
      "9/9 [==============================] - 0s 2ms/step - loss: 0.1193 - accuracy: 0.9565 - val_loss: 0.5554 - val_accuracy: 0.7500\n",
      "Epoch 9/10\n",
      "9/9 [==============================] - 0s 2ms/step - loss: 0.0928 - accuracy: 0.9710 - val_loss: 1.0411 - val_accuracy: 0.5000\n",
      "Epoch 10/10\n",
      "9/9 [==============================] - 0s 2ms/step - loss: 0.0474 - accuracy: 1.0000 - val_loss: 0.9714 - val_accuracy: 0.7500\n"
     ]
    }
   ],
   "source": [
    "history = model.fit(X_train, y_train, \n",
    "                    batch_size=8,  # Small batch size to allow the model to update weights more often\n",
    "                    epochs=10,  # Total number of iterations over the entire dataset\n",
    "                    validation_split=0.1,  # Fraction of the training data to be used as validation data\n",
    "                    verbose=1)  # Verbose=1 shows a progress bar during training"
   ]
  },
  {
   "cell_type": "code",
   "execution_count": 154,
   "metadata": {},
   "outputs": [
    {
     "data": {
      "image/png": "[encoded data removed]",
      "text/plain": [
       "<Figure size 1400x500 with 2 Axes>"
      ]
     },
     "metadata": {},
     "output_type": "display_data"
    }
   ],
   "source": [
    "import matplotlib.pyplot as plt\n",
    "\n",
    "# Retrieve history data\n",
    "epochs = range(1, len(history.history['loss']) + 1)\n",
    "loss = history.history['loss']\n",
    "val_loss = history.history['val_loss']\n",
    "acc = history.history['accuracy']\n",
    "val_acc = history.history['val_accuracy']\n",
    "\n",
    "# Create subplots\n",
    "fig, (ax1, ax2) = plt.subplots(1, 2, figsize=(14, 5))\n",
    "\n",
    "# Plot training and validation loss\n",
    "ax1.plot(epochs, loss, 'b', label='Training Loss')\n",
    "ax1.plot(epochs, val_loss, 'r', label='Validation Loss')\n",
    "ax1.set_title('Training and Validation Loss')\n",
    "ax1.set_xlabel('Epochs')\n",
    "ax1.set_ylabel('Loss')\n",
    "ax1.legend()\n",
    "\n",
    "# Plot training and validation accuracy\n",
    "ax2.plot(epochs, acc, 'b', label='Training Acc')\n",
    "ax2.plot(epochs, val_acc, 'r', label='Validation Acc')\n",
    "ax2.set_title('Training and Validation Accuracy')\n",
    "ax2.set_xlabel('Epochs')\n",
    "ax2.set_ylabel('Accuracy')\n",
    "ax2.legend()\n",
    "ax2.set_ylim(0, 1)\n",
    "\n",
    "# Show the plots\n",
    "plt.tight_layout()\n",
    "plt.show()\n"
   ]
  },
  {
   "cell_type": "markdown",
   "metadata": {},
   "source": [
    "## 5. Evaluate model performance"
   ]
  },
  {
   "cell_type": "code",
   "execution_count": 155,
   "metadata": {},
   "outputs": [
    {
     "name": "stdout",
     "output_type": "stream",
     "text": [
      "3/3 [==============================] - 0s 1ms/step\n",
      "3/3 [==============================] - 0s 764us/step\n"
     ]
    }
   ],
   "source": [
    "from sklearn.metrics import confusion_matrix, accuracy_score\n",
    "import seaborn as sns\n",
    "import matplotlib.pyplot as plt\n",
    "\n",
    "# Assuming `model` is your trained Keras model, df_train and df_test are your DataFrames\n",
    "# and 'features' is the column with image features, 'label' is the column with true labels.\n",
    "\n",
    "# Predict classes on training set\n",
    "y_pred_train = (model.predict(X_train) > 0.5).astype(\"int32\")\n",
    "y_true_train = y_train\n",
    "\n",
    "# Compute confusion matrix for training set\n",
    "cm_train = confusion_matrix(y_true_train, y_pred_train)\n",
    "acc_train = accuracy_score(y_true_train, y_pred_train)\n",
    "\n",
    "# Predict classes on testing set\n",
    "X_test = np.array(df_test['features'].tolist())\n",
    "y_test = df_test['label'].apply(lambda x: 1 if x == 'malignant' else 0).values\n",
    "y_pred_test = (model.predict(X_test) > 0.5).astype(\"int32\")\n",
    "y_true_test = y_test\n",
    "\n",
    "# Compute confusion matrix for testing set\n",
    "cm_test = confusion_matrix(y_true_test, y_pred_test)\n",
    "acc_test = accuracy_score(y_true_test, y_pred_test)"
   ]
  },
  {
   "cell_type": "code",
   "execution_count": 156,
   "metadata": {},
   "outputs": [
    {
     "data": {
      "image/png": "[encoded data removed]",
      "text/plain": [
       "<Figure size 1200x500 with 4 Axes>"
      ]
     },
     "metadata": {},
     "output_type": "display_data"
    }
   ],
   "source": [
    "# Define a mapping from numeric labels to string labels\n",
    "label_mapping = {0: 'benign', 1: 'malignant'}\n",
    "\n",
    "fig, (ax1, ax2) = plt.subplots(1, 2, figsize=(12, 5))\n",
    "\n",
    "# Training Confusion Matrix\n",
    "sns.heatmap(cm_train, annot=True, fmt='d', cmap='Blues', ax=ax1, xticklabels=label_mapping.values(), yticklabels=label_mapping.values())\n",
    "ax1.set_title(f'Training Set Confusion Matrix\\nAccuracy: {acc_train:.2f}')\n",
    "ax1.set_xlabel('Predicted Labels')\n",
    "ax1.set_ylabel('True Labels')\n",
    "\n",
    "# Testing Confusion Matrix\n",
    "sns.heatmap(cm_test, annot=True, fmt='d', cmap='Blues', ax=ax2, xticklabels=label_mapping.values(), yticklabels=label_mapping.values())\n",
    "ax2.set_title(f'Testing Set Confusion Matrix\\nAccuracy: {acc_test:.2f}')\n",
    "ax2.set_xlabel('Predicted Labels')\n",
    "ax2.set_ylabel('True Labels')\n",
    "\n",
    "plt.tight_layout()\n",
    "plt.show()"
   ]
  },
  {
   "cell_type": "markdown",
   "metadata": {},
   "source": [
    "## 6. Save model and deploy"
   ]
  },
  {
   "cell_type": "code",
   "execution_count": 89,
   "metadata": {},
   "outputs": [
    {
     "name": "stderr",
     "output_type": "stream",
     "text": [
      "/Users/teosanchez/anaconda3/lib/python3.11/site-packages/keras/src/engine/training.py:3079: UserWarning: You are saving your model as an HDF5 file via `model.save()`. This file format is considered legacy. We recommend using instead the native Keras format, e.g. `model.save('my_model.keras')`.\n",
      "  saving_api.save_model(\n"
     ]
    }
   ],
   "source": [
    "# Save model\n",
    "model.save('mymodel.h5')"
   ]
  },
  {
   "cell_type": "markdown",
   "metadata": {},
   "source": [
    "**Exercice** : Write a function that takes a raw image (PIL) and the model, and outputs a prediction (string) and a probability (float)."
   ]
  },
  {
   "cell_type": "code",
   "execution_count": 157,
   "metadata": {},
   "outputs": [
    {
     "ename": "NotImplementedError",
     "evalue": "",
     "output_type": "error",
     "traceback": [
      "\u001b[0;31m---------------------------------------------------------------------------\u001b[0m",
      "\u001b[0;31mNotImplementedError\u001b[0m                       Traceback (most recent call last)",
      "\u001b[1;32m/Users/teosanchez/Teaching/project_course_aica/aica-project-course/1_introduction/ml-vision-python/import_model.ipynb Cell 29\u001b[0m line \u001b[0;36m1\n\u001b[1;32m     <a href='vscode-notebook-cell:/Users/teosanchez/Teaching/project_course_aica/aica-project-course/1_introduction/ml-vision-python/import_model.ipynb#X45sZmlsZQ%3D%3D?line=13'>14</a>\u001b[0m     \u001b[39m# TODO: Implement this function\u001b[39;00m\n\u001b[1;32m     <a href='vscode-notebook-cell:/Users/teosanchez/Teaching/project_course_aica/aica-project-course/1_introduction/ml-vision-python/import_model.ipynb#X45sZmlsZQ%3D%3D?line=14'>15</a>\u001b[0m     \u001b[39mraise\u001b[39;00m \u001b[39mNotImplementedError\u001b[39;00m\n\u001b[0;32m---> <a href='vscode-notebook-cell:/Users/teosanchez/Teaching/project_course_aica/aica-project-course/1_introduction/ml-vision-python/import_model.ipynb#X45sZmlsZQ%3D%3D?line=17'>18</a>\u001b[0m predict(df_test[\u001b[39m'\u001b[39m\u001b[39mimage\u001b[39m\u001b[39m'\u001b[39m][\u001b[39m0\u001b[39m], model)\n",
      "\u001b[1;32m/Users/teosanchez/Teaching/project_course_aica/aica-project-course/1_introduction/ml-vision-python/import_model.ipynb Cell 29\u001b[0m line \u001b[0;36m1\n\u001b[1;32m      <a href='vscode-notebook-cell:/Users/teosanchez/Teaching/project_course_aica/aica-project-course/1_introduction/ml-vision-python/import_model.ipynb#X45sZmlsZQ%3D%3D?line=4'>5</a>\u001b[0m \u001b[39m\u001b[39m\u001b[39m\"\"\"AI is creating summary for predict\u001b[39;00m\n\u001b[1;32m      <a href='vscode-notebook-cell:/Users/teosanchez/Teaching/project_course_aica/aica-project-course/1_introduction/ml-vision-python/import_model.ipynb#X45sZmlsZQ%3D%3D?line=5'>6</a>\u001b[0m \n\u001b[1;32m      <a href='vscode-notebook-cell:/Users/teosanchez/Teaching/project_course_aica/aica-project-course/1_introduction/ml-vision-python/import_model.ipynb#X45sZmlsZQ%3D%3D?line=6'>7</a>\u001b[0m \u001b[39mArgs:\u001b[39;00m\n\u001b[0;32m   (...)\u001b[0m\n\u001b[1;32m     <a href='vscode-notebook-cell:/Users/teosanchez/Teaching/project_course_aica/aica-project-course/1_introduction/ml-vision-python/import_model.ipynb#X45sZmlsZQ%3D%3D?line=11'>12</a>\u001b[0m \u001b[39m    Tuple[str, float]: A tuple of the predicted label and the confidence score.\u001b[39;00m\n\u001b[1;32m     <a href='vscode-notebook-cell:/Users/teosanchez/Teaching/project_course_aica/aica-project-course/1_introduction/ml-vision-python/import_model.ipynb#X45sZmlsZQ%3D%3D?line=12'>13</a>\u001b[0m \u001b[39m\"\"\"\u001b[39;00m\n\u001b[1;32m     <a href='vscode-notebook-cell:/Users/teosanchez/Teaching/project_course_aica/aica-project-course/1_introduction/ml-vision-python/import_model.ipynb#X45sZmlsZQ%3D%3D?line=13'>14</a>\u001b[0m \u001b[39m# TODO: Implement this function\u001b[39;00m\n\u001b[0;32m---> <a href='vscode-notebook-cell:/Users/teosanchez/Teaching/project_course_aica/aica-project-course/1_introduction/ml-vision-python/import_model.ipynb#X45sZmlsZQ%3D%3D?line=14'>15</a>\u001b[0m \u001b[39mraise\u001b[39;00m \u001b[39mNotImplementedError\u001b[39;00m\n",
      "\u001b[0;31mNotImplementedError\u001b[0m: "
     ]
    }
   ],
   "source": [
    "import PIL\n",
    "from typing import Tuple\n",
    "\n",
    "def predict(image: PIL.Image.Image, model: Model) -> Tuple[str, float]:\n",
    "    \"\"\"AI is creating summary for predict\n",
    "\n",
    "    Args:\n",
    "        image (PIL.Image.Image): An image to predict.\n",
    "        model (Model): A model to use for prediction.\n",
    "\n",
    "    Returns:\n",
    "        Tuple[str, float]: A tuple of the predicted label and the confidence score.\n",
    "    \"\"\"\n",
    "    # TODO: Implement this function\n",
    "    raise NotImplementedError\n",
    "\n",
    "\n",
    "predict(df_test['image'][0], model)"
   ]
  },
  {
   "cell_type": "markdown",
   "metadata": {},
   "source": [
    "# Import a model trained in Marcelle"
   ]
  },
  {
   "cell_type": "markdown",
   "metadata": {},
   "source": [
    "We reviewed all the steps to train a machine learning model in Python. However, if you want to use a model trained in Marcelle, you can import it in Python and use it to make predictions on new images following the steps below.\n",
    "\n",
    "1. Go on the settings of the Marcelle application once you trained a model\n",
    "2. Click on \"Download Model\". Two files should be downloaded: `classifier.json` and `mlpclassifier.weights(1).bin`. The first one describes the architecture of the model and the second one contains the weights of the model.\n",
    "3. Convert the files using the following command:\n",
    "\n",
    " `tensorflowjs_converter --input_format=tfjs_layers_model --output_format=keras path/to/classifier.json path/to/converted/model`\n",
    "\n",
    "4. Now follow the following steps to import the model in Python"
   ]
  },
  {
   "cell_type": "code",
   "execution_count": 158,
   "metadata": {},
   "outputs": [
    {
     "name": "stdout",
     "output_type": "stream",
     "text": [
      "WARNING:tensorflow:No training configuration found in save file, so the model was *not* compiled. Compile it manually.\n"
     ]
    },
    {
     "name": "stderr",
     "output_type": "stream",
     "text": [
      "WARNING:tensorflow:No training configuration found in save file, so the model was *not* compiled. Compile it manually.\n"
     ]
    },
    {
     "name": "stdout",
     "output_type": "stream",
     "text": [
      "Model: \"sequential_1\"\n",
      "_________________________________________________________________\n",
      " Layer (type)                Output Shape              Param #   \n",
      "=================================================================\n",
      " dense_Dense1 (Dense)        (None, 64)                65600     \n",
      "                                                                 \n",
      " dense_Dense2 (Dense)        (None, 32)                2080      \n",
      "                                                                 \n",
      " dense_Dense3 (Dense)        (None, 2)                 66        \n",
      "                                                                 \n",
      "=================================================================\n",
      "Total params: 67746 (264.63 KB)\n",
      "Trainable params: 67746 (264.63 KB)\n",
      "Non-trainable params: 0 (0.00 Byte)\n",
      "_________________________________________________________________\n",
      "None\n"
     ]
    }
   ],
   "source": [
    "from tensorflow import keras\n",
    "\n",
    "# Make sure to replace './path/to/output/keras_model' with the actual path where the converted model is stored\n",
    "def load_model(model_path):\n",
    "    # This loads both the model architecture and the weights\n",
    "    model = keras.models.load_model(model_path)\n",
    "    return model\n",
    "\n",
    "# Load the converted model (including weights)\n",
    "model = load_model('./keras_model')\n",
    "\n",
    "# Display the model architecture\n",
    "print(model.summary())\n",
    "\n",
    "# Now you can use the model for predictions, further training, evaluation, etc.\n"
   ]
  },
  {
   "cell_type": "code",
   "execution_count": 171,
   "metadata": {},
   "outputs": [
    {
     "ename": "ValueError",
     "evalue": "Failed to convert a NumPy array to a Tensor (Unsupported object type numpy.ndarray).",
     "output_type": "error",
     "traceback": [
      "\u001b[0;31m---------------------------------------------------------------------------\u001b[0m",
      "\u001b[0;31mValueError\u001b[0m                                Traceback (most recent call last)",
      "\u001b[1;32m/Users/teosanchez/Teaching/project_course_aica/aica-project-course/1_introduction/ml-vision-python/import_model.ipynb Cell 33\u001b[0m line \u001b[0;36m2\n\u001b[1;32m      <a href='vscode-notebook-cell:/Users/teosanchez/Teaching/project_course_aica/aica-project-course/1_introduction/ml-vision-python/import_model.ipynb#X16sZmlsZQ%3D%3D?line=0'>1</a>\u001b[0m \u001b[39m# Use the model to make predictions\u001b[39;00m\n\u001b[0;32m----> <a href='vscode-notebook-cell:/Users/teosanchez/Teaching/project_course_aica/aica-project-course/1_introduction/ml-vision-python/import_model.ipynb#X16sZmlsZQ%3D%3D?line=1'>2</a>\u001b[0m predictions \u001b[39m=\u001b[39m model\u001b[39m.\u001b[39mpredict(df_test\u001b[39m.\u001b[39mfeatures)\n",
      "File \u001b[0;32m~/anaconda3/lib/python3.11/site-packages/keras/src/utils/traceback_utils.py:70\u001b[0m, in \u001b[0;36mfilter_traceback.<locals>.error_handler\u001b[0;34m(*args, **kwargs)\u001b[0m\n\u001b[1;32m     67\u001b[0m     filtered_tb \u001b[39m=\u001b[39m _process_traceback_frames(e\u001b[39m.\u001b[39m__traceback__)\n\u001b[1;32m     68\u001b[0m     \u001b[39m# To get the full stack trace, call:\u001b[39;00m\n\u001b[1;32m     69\u001b[0m     \u001b[39m# `tf.debugging.disable_traceback_filtering()`\u001b[39;00m\n\u001b[0;32m---> 70\u001b[0m     \u001b[39mraise\u001b[39;00m e\u001b[39m.\u001b[39mwith_traceback(filtered_tb) \u001b[39mfrom\u001b[39;00m \u001b[39mNone\u001b[39;00m\n\u001b[1;32m     71\u001b[0m \u001b[39mfinally\u001b[39;00m:\n\u001b[1;32m     72\u001b[0m     \u001b[39mdel\u001b[39;00m filtered_tb\n",
      "File \u001b[0;32m~/anaconda3/lib/python3.11/site-packages/tensorflow/python/framework/constant_op.py:102\u001b[0m, in \u001b[0;36mconvert_to_eager_tensor\u001b[0;34m(value, ctx, dtype)\u001b[0m\n\u001b[1;32m    100\u001b[0m     dtype \u001b[39m=\u001b[39m dtypes\u001b[39m.\u001b[39mas_dtype(dtype)\u001b[39m.\u001b[39mas_datatype_enum\n\u001b[1;32m    101\u001b[0m ctx\u001b[39m.\u001b[39mensure_initialized()\n\u001b[0;32m--> 102\u001b[0m \u001b[39mreturn\u001b[39;00m ops\u001b[39m.\u001b[39mEagerTensor(value, ctx\u001b[39m.\u001b[39mdevice_name, dtype)\n",
      "\u001b[0;31mValueError\u001b[0m: Failed to convert a NumPy array to a Tensor (Unsupported object type numpy.ndarray)."
     ]
    }
   ],
   "source": [
    "# Use the model to make predictions\n",
    "predictions = model.predict(df_test.features)"
   ]
  },
  {
   "cell_type": "code",
   "execution_count": 173,
   "metadata": {},
   "outputs": [
    {
     "name": "stdout",
     "output_type": "stream",
     "text": [
      "3/3 [==============================] - 0s 1ms/step\n"
     ]
    },
    {
     "data": {
      "text/plain": [
       "array([[0.36650518, 0.63349485],\n",
       "       [0.28135037, 0.7186496 ],\n",
       "       [0.38330564, 0.61669433],\n",
       "       [0.4598815 , 0.54011846],\n",
       "       [0.29996586, 0.7000341 ],\n",
       "       [0.16229856, 0.83770144],\n",
       "       [0.5527504 , 0.44724956],\n",
       "       [0.07268341, 0.9273166 ],\n",
       "       [0.14605302, 0.853947  ],\n",
       "       [0.11634902, 0.88365096],\n",
       "       [0.44228885, 0.5577111 ],\n",
       "       [0.37331265, 0.6266874 ],\n",
       "       [0.2166027 , 0.7833973 ],\n",
       "       [0.10672177, 0.89327824],\n",
       "       [0.1126862 , 0.88731384],\n",
       "       [0.41449836, 0.5855017 ],\n",
       "       [0.26708236, 0.7329176 ],\n",
       "       [0.15937017, 0.8406298 ],\n",
       "       [0.4379488 , 0.56205124],\n",
       "       [0.09497558, 0.9050244 ],\n",
       "       [0.13972194, 0.860278  ],\n",
       "       [0.08297044, 0.9170296 ],\n",
       "       [0.20203283, 0.7979672 ],\n",
       "       [0.23221987, 0.7677801 ],\n",
       "       [0.52525353, 0.4747464 ],\n",
       "       [0.56770796, 0.432292  ],\n",
       "       [0.12078129, 0.8792187 ],\n",
       "       [0.5489216 , 0.4510784 ],\n",
       "       [0.68002635, 0.31997362],\n",
       "       [0.43927485, 0.56072515],\n",
       "       [0.60984737, 0.3901526 ],\n",
       "       [0.32103673, 0.67896324],\n",
       "       [0.05322967, 0.94677025],\n",
       "       [0.3401755 , 0.65982455],\n",
       "       [0.2664213 , 0.7335787 ],\n",
       "       [0.68587834, 0.31412166],\n",
       "       [0.6277607 , 0.37223926],\n",
       "       [0.18362674, 0.8163732 ],\n",
       "       [0.21109594, 0.7889041 ],\n",
       "       [0.24530698, 0.75469303],\n",
       "       [0.40284038, 0.5971596 ],\n",
       "       [0.1568156 , 0.8431844 ],\n",
       "       [0.29738575, 0.70261425],\n",
       "       [0.0907396 , 0.9092604 ],\n",
       "       [0.24427798, 0.755722  ],\n",
       "       [0.6075117 , 0.3924883 ],\n",
       "       [0.34618542, 0.6538146 ],\n",
       "       [0.23735635, 0.76264364],\n",
       "       [0.0619654 , 0.9380346 ],\n",
       "       [0.13135415, 0.8686459 ],\n",
       "       [0.19379903, 0.806201  ],\n",
       "       [0.37556592, 0.6244341 ],\n",
       "       [0.36928973, 0.63071024],\n",
       "       [0.26965666, 0.73034334],\n",
       "       [0.3395777 , 0.66042227],\n",
       "       [0.03338668, 0.96661335],\n",
       "       [0.10365701, 0.896343  ],\n",
       "       [0.05761722, 0.94238275],\n",
       "       [0.30332956, 0.6966704 ],\n",
       "       [0.16613533, 0.8338647 ],\n",
       "       [0.02895834, 0.97104174],\n",
       "       [0.20876192, 0.79123807],\n",
       "       [0.36936298, 0.63063705],\n",
       "       [0.0521119 , 0.94788814],\n",
       "       [0.32837093, 0.6716291 ],\n",
       "       [0.14463636, 0.85536367],\n",
       "       [0.32123613, 0.67876387],\n",
       "       [0.11997491, 0.88002515],\n",
       "       [0.0883319 , 0.91166806],\n",
       "       [0.17631698, 0.823683  ],\n",
       "       [0.179207  , 0.82079303],\n",
       "       [0.24839596, 0.7516041 ],\n",
       "       [0.06612547, 0.9338745 ],\n",
       "       [0.6883881 , 0.31161192],\n",
       "       [0.42472142, 0.5752785 ],\n",
       "       [0.48485395, 0.515146  ],\n",
       "       [0.24753281, 0.75246716],\n",
       "       [0.06112311, 0.9388769 ],\n",
       "       [0.0938032 , 0.90619683],\n",
       "       [0.24971129, 0.7502888 ]], dtype=float32)"
      ]
     },
     "execution_count": 173,
     "metadata": {},
     "output_type": "execute_result"
    }
   ],
   "source": [
    "# Assuming df_test.features is a pandas Series of 1D NumPy arrays:\n",
    "# Stack the arrays to create one 2D NumPy array\n",
    "X_test = np.stack(df_test.features.values)\n",
    "\n",
    "# Now X_test is a 2D NumPy array that can be passed to the model for prediction\n",
    "predictions = model.predict(X_test)\n",
    "predictions"
   ]
  },
  {
   "cell_type": "code",
   "execution_count": 178,
   "metadata": {},
   "outputs": [
    {
     "name": "stdout",
     "output_type": "stream",
     "text": [
      "Prediction:  1 | Confidence: 0.63 | True label:  0 |\n",
      "Prediction:  1 | Confidence: 0.72 | True label:  0 |\n",
      "Prediction:  1 | Confidence: 0.62 | True label:  0 |\n",
      "Prediction:  1 | Confidence: 0.54 | True label:  0 |\n",
      "Prediction:  1 | Confidence: 0.70 | True label:  0 |\n",
      "Prediction:  1 | Confidence: 0.84 | True label:  0 |\n",
      "Prediction:  0 | Confidence: 0.55 | True label:  0 |\n",
      "Prediction:  1 | Confidence: 0.93 | True label:  0 |\n",
      "Prediction:  1 | Confidence: 0.85 | True label:  0 |\n",
      "Prediction:  1 | Confidence: 0.88 | True label:  0 |\n",
      "Prediction:  1 | Confidence: 0.56 | True label:  0 |\n",
      "Prediction:  1 | Confidence: 0.63 | True label:  0 |\n",
      "Prediction:  1 | Confidence: 0.78 | True label:  0 |\n",
      "Prediction:  1 | Confidence: 0.89 | True label:  0 |\n",
      "Prediction:  1 | Confidence: 0.89 | True label:  0 |\n",
      "Prediction:  1 | Confidence: 0.59 | True label:  0 |\n",
      "Prediction:  1 | Confidence: 0.73 | True label:  0 |\n",
      "Prediction:  1 | Confidence: 0.84 | True label:  0 |\n",
      "Prediction:  1 | Confidence: 0.56 | True label:  0 |\n",
      "Prediction:  1 | Confidence: 0.91 | True label:  0 |\n",
      "Prediction:  1 | Confidence: 0.86 | True label:  0 |\n",
      "Prediction:  1 | Confidence: 0.92 | True label:  0 |\n",
      "Prediction:  1 | Confidence: 0.80 | True label:  0 |\n",
      "Prediction:  1 | Confidence: 0.77 | True label:  0 |\n",
      "Prediction:  0 | Confidence: 0.53 | True label:  0 |\n",
      "Prediction:  0 | Confidence: 0.57 | True label:  0 |\n",
      "Prediction:  1 | Confidence: 0.88 | True label:  0 |\n",
      "Prediction:  0 | Confidence: 0.55 | True label:  0 |\n",
      "Prediction:  0 | Confidence: 0.68 | True label:  0 |\n",
      "Prediction:  1 | Confidence: 0.56 | True label:  0 |\n",
      "Prediction:  0 | Confidence: 0.61 | True label:  0 |\n",
      "Prediction:  1 | Confidence: 0.68 | True label:  0 |\n",
      "Prediction:  1 | Confidence: 0.95 | True label:  0 |\n",
      "Prediction:  1 | Confidence: 0.66 | True label:  0 |\n",
      "Prediction:  1 | Confidence: 0.73 | True label:  0 |\n",
      "Prediction:  0 | Confidence: 0.69 | True label:  0 |\n",
      "Prediction:  0 | Confidence: 0.63 | True label:  0 |\n",
      "Prediction:  1 | Confidence: 0.82 | True label:  0 |\n",
      "Prediction:  1 | Confidence: 0.79 | True label:  0 |\n",
      "Prediction:  1 | Confidence: 0.75 | True label:  0 |\n",
      "Prediction:  1 | Confidence: 0.60 | True label:  1 |\n",
      "Prediction:  1 | Confidence: 0.84 | True label:  1 |\n",
      "Prediction:  1 | Confidence: 0.70 | True label:  1 |\n",
      "Prediction:  1 | Confidence: 0.91 | True label:  1 |\n",
      "Prediction:  1 | Confidence: 0.76 | True label:  1 |\n",
      "Prediction:  0 | Confidence: 0.61 | True label:  1 |\n",
      "Prediction:  1 | Confidence: 0.65 | True label:  1 |\n",
      "Prediction:  1 | Confidence: 0.76 | True label:  1 |\n",
      "Prediction:  1 | Confidence: 0.94 | True label:  1 |\n",
      "Prediction:  1 | Confidence: 0.87 | True label:  1 |\n",
      "Prediction:  1 | Confidence: 0.81 | True label:  1 |\n",
      "Prediction:  1 | Confidence: 0.62 | True label:  1 |\n",
      "Prediction:  1 | Confidence: 0.63 | True label:  1 |\n",
      "Prediction:  1 | Confidence: 0.73 | True label:  1 |\n",
      "Prediction:  1 | Confidence: 0.66 | True label:  1 |\n",
      "Prediction:  1 | Confidence: 0.97 | True label:  1 |\n",
      "Prediction:  1 | Confidence: 0.90 | True label:  1 |\n",
      "Prediction:  1 | Confidence: 0.94 | True label:  1 |\n",
      "Prediction:  1 | Confidence: 0.70 | True label:  1 |\n",
      "Prediction:  1 | Confidence: 0.83 | True label:  1 |\n",
      "Prediction:  1 | Confidence: 0.97 | True label:  1 |\n",
      "Prediction:  1 | Confidence: 0.79 | True label:  1 |\n",
      "Prediction:  1 | Confidence: 0.63 | True label:  1 |\n",
      "Prediction:  1 | Confidence: 0.95 | True label:  1 |\n",
      "Prediction:  1 | Confidence: 0.67 | True label:  1 |\n",
      "Prediction:  1 | Confidence: 0.86 | True label:  1 |\n",
      "Prediction:  1 | Confidence: 0.68 | True label:  1 |\n",
      "Prediction:  1 | Confidence: 0.88 | True label:  1 |\n",
      "Prediction:  1 | Confidence: 0.91 | True label:  1 |\n",
      "Prediction:  1 | Confidence: 0.82 | True label:  1 |\n",
      "Prediction:  1 | Confidence: 0.82 | True label:  1 |\n",
      "Prediction:  1 | Confidence: 0.75 | True label:  1 |\n",
      "Prediction:  1 | Confidence: 0.93 | True label:  1 |\n",
      "Prediction:  0 | Confidence: 0.69 | True label:  1 |\n",
      "Prediction:  1 | Confidence: 0.58 | True label:  1 |\n",
      "Prediction:  1 | Confidence: 0.52 | True label:  1 |\n",
      "Prediction:  1 | Confidence: 0.75 | True label:  1 |\n",
      "Prediction:  1 | Confidence: 0.94 | True label:  1 |\n",
      "Prediction:  1 | Confidence: 0.91 | True label:  1 |\n",
      "Prediction:  1 | Confidence: 0.75 | True label:  1 |\n"
     ]
    }
   ],
   "source": [
    "import numpy as np\n",
    "# Print predictions next to true labels\n",
    "for i, (pred, true) in enumerate(zip(predictions, y_test)):\n",
    "    print(f'Prediction: {np.argmax(pred):2} | Confidence: {max(pred):.2f} | True label: {true:2} |')"
   ]
  },
  {
   "cell_type": "code",
   "execution_count": null,
   "metadata": {},
   "outputs": [],
   "source": []
  },
  {
   "cell_type": "code",
   "execution_count": null,
   "metadata": {},
   "outputs": [],
   "source": []
  }
 ],
 "metadata": {
  "kernelspec": {
   "display_name": "Python 3",
   "language": "python",
   "name": "python3"
  },
  "language_info": {
   "codemirror_mode": {
    "name": "ipython",
    "version": 3
   },
   "file_extension": ".py",
   "mimetype": "text/x-python",
   "name": "python",
   "nbconvert_exporter": "python",
   "pygments_lexer": "ipython3",
   "version": "3.11.4"
  }
 },
 "nbformat": 4,
 "nbformat_minor": 2
}
